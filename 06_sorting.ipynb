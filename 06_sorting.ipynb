{
 "cells": [
  {
   "cell_type": "code",
   "execution_count": 1,
   "metadata": {},
   "outputs": [],
   "source": [
    "import numpy as np\n",
    "\n",
    "# Create a new random array\n",
    "arr = np.random.rand(3,4)"
   ]
  },
  {
   "cell_type": "markdown",
   "metadata": {},
   "source": [
    "This code demonstrates how to sort a numpy array along different axes, both in-place and with copies, as well as how to retrieve the indices of sorted elements.\n",
    "## 6.1. **Sorting Along Rows (axis=0)**:\n",
    "- `np.sort(arr, axis=0)`: Sorts the array along the rows, returning a new array (copy)."
   ]
  },
  {
   "cell_type": "code",
   "execution_count": 2,
   "metadata": {},
   "outputs": [
    {
     "name": "stdout",
     "output_type": "stream",
     "text": [
      "[[0.1072139  0.43345691 0.36320244 0.04739047]\n",
      " [0.31877436 0.5501819  0.4245276  0.08920689]\n",
      " [0.74455195 0.78257843 0.60116779 0.25956484]]\n",
      "[[0.1072139  0.43345691 0.36320244 0.04739047]\n",
      " [0.31877436 0.5501819  0.4245276  0.08920689]\n",
      " [0.74455195 0.78257843 0.60116779 0.25956484]]\n"
     ]
    }
   ],
   "source": [
    "# Sort along the row and return a copy\n",
    "print(np.sort(arr, axis=0))\n",
    "\n",
    "# Sort along the row in place\n",
    "arr.sort(axis=0)\n",
    "print(arr)"
   ]
  },
  {
   "cell_type": "markdown",
   "metadata": {},
   "source": [
    "- `arr.sort(axis=0)`: Sorts the array along the rows **in-place**, modifying the original array."
   ]
  },
  {
   "cell_type": "code",
   "execution_count": 3,
   "metadata": {},
   "outputs": [
    {
     "name": "stdout",
     "output_type": "stream",
     "text": [
      "[[0.1072139  0.43345691 0.36320244 0.04739047]\n",
      " [0.31877436 0.5501819  0.4245276  0.08920689]\n",
      " [0.74455195 0.78257843 0.60116779 0.25956484]]\n"
     ]
    }
   ],
   "source": [
    "# Sort along the row in place\n",
    "arr.sort(axis=0)\n",
    "print(arr)"
   ]
  },
  {
   "cell_type": "markdown",
   "metadata": {},
   "source": [
    "## 6.2. **Sorting Along Columns (axis=1)**:\n",
    "- `np.sort(arr, axis=1)`: Sorts the array along the columns, returning a new array (copy)."
   ]
  },
  {
   "cell_type": "code",
   "execution_count": 4,
   "metadata": {},
   "outputs": [
    {
     "name": "stdout",
     "output_type": "stream",
     "text": [
      "[[0.04739047 0.1072139  0.36320244 0.43345691]\n",
      " [0.08920689 0.31877436 0.4245276  0.5501819 ]\n",
      " [0.25956484 0.60116779 0.74455195 0.78257843]]\n"
     ]
    }
   ],
   "source": [
    "# Sort along the column and return a copy\n",
    "print(np.sort(arr, axis=1))"
   ]
  },
  {
   "cell_type": "markdown",
   "metadata": {},
   "source": [
    "- `arr.sort(axis=1)`: Sorts the array along the columns **in-place**, modifying the original array."
   ]
  },
  {
   "cell_type": "code",
   "execution_count": 5,
   "metadata": {},
   "outputs": [
    {
     "name": "stdout",
     "output_type": "stream",
     "text": [
      "[[0.04739047 0.1072139  0.36320244 0.43345691]\n",
      " [0.08920689 0.31877436 0.4245276  0.5501819 ]\n",
      " [0.25956484 0.60116779 0.74455195 0.78257843]]\n"
     ]
    }
   ],
   "source": [
    "# Sort along the column in place\n",
    "arr.sort(axis=1)\n",
    "print(arr)"
   ]
  },
  {
   "cell_type": "markdown",
   "metadata": {},
   "source": [
    "## 6.3. **Getting Sorted Indices**:\n",
    "- `np.argsort(arr, axis=0)`: Returns the indices that would sort the array along the rows."
   ]
  },
  {
   "cell_type": "code",
   "execution_count": 6,
   "metadata": {},
   "outputs": [
    {
     "name": "stdout",
     "output_type": "stream",
     "text": [
      "[[0 0 0 0]\n",
      " [1 1 1 1]\n",
      " [2 2 2 2]]\n"
     ]
    }
   ],
   "source": [
    "# Get the indices that would sort the array along the row\n",
    "print(np.argsort(arr, axis=0))"
   ]
  },
  {
   "cell_type": "markdown",
   "metadata": {},
   "source": [
    "- `np.argsort(arr, axis=1)`: Returns the indices that would sort the array along the columns."
   ]
  },
  {
   "cell_type": "code",
   "execution_count": 7,
   "metadata": {},
   "outputs": [
    {
     "name": "stdout",
     "output_type": "stream",
     "text": [
      "[[0 1 2 3]\n",
      " [0 1 2 3]\n",
      " [0 1 2 3]]\n"
     ]
    }
   ],
   "source": [
    "# Get the indices that would sort the array along the column\n",
    "print(np.argsort(arr, axis=1))"
   ]
  },
  {
   "cell_type": "markdown",
   "metadata": {},
   "source": [
    "- `np.argsort(arr, axis=None)`: Returns the indices of the flattened array (the entire array)."
   ]
  },
  {
   "cell_type": "code",
   "execution_count": 8,
   "metadata": {},
   "outputs": [
    {
     "name": "stdout",
     "output_type": "stream",
     "text": [
      "[ 0  4  1  8  5  2  6  3  7  9 10 11]\n"
     ]
    }
   ],
   "source": [
    "\n",
    "\n",
    "# If axis=None, return the indices of a flattened array\n",
    "print(np.argsort(arr, axis=None))"
   ]
  }
 ],
 "metadata": {
  "kernelspec": {
   "display_name": "Python 3.9.19",
   "language": "python",
   "name": "python3"
  },
  "language_info": {
   "codemirror_mode": {
    "name": "ipython",
    "version": 3
   },
   "file_extension": ".py",
   "mimetype": "text/x-python",
   "name": "python",
   "nbconvert_exporter": "python",
   "pygments_lexer": "ipython3",
   "version": "3.9.19"
  },
  "orig_nbformat": 4,
  "vscode": {
   "interpreter": {
    "hash": "19ac704693c8cae2f9c9e88ff9c6c1340ec210896adf45c2deb54188ffc1c0c1"
   }
  }
 },
 "nbformat": 4,
 "nbformat_minor": 2
}
