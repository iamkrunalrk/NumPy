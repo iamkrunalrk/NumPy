{
 "cells": [
  {
   "cell_type": "markdown",
   "metadata": {},
   "source": [
    "## Importing NumPy"
   ]
  },
  {
   "cell_type": "code",
   "execution_count": 1,
   "metadata": {},
   "outputs": [],
   "source": [
    "import numpy as np"
   ]
  },
  {
   "cell_type": "markdown",
   "metadata": {},
   "source": [
    "This code demonstrates various ways to slice, index, and filter numpy arrays using different techniques.\n",
    "1. **Basic Indexing and Slicing**:\n",
    "- `arr[5][5]` vs `arr[5,5]`: Indexing an element at row 5, column 5. The latter is more concise.\n",
    "- `arr[1:3, 4:6]`: Slice the array from rows 1 to 2 and columns 4 to 5."
   ]
  },
  {
   "cell_type": "code",
   "execution_count": 2,
   "metadata": {},
   "outputs": [
    {
     "name": "stdout",
     "output_type": "stream",
     "text": [
      "55\n",
      "55\n",
      "[[14 15]\n",
      " [24 25]]\n"
     ]
    }
   ],
   "source": [
    "arr = np.array(range(100)).reshape((10,10))\n",
    "\n",
    "# Indexing an element (alternative ways)\n",
    "print(arr[5][5]) # Traditional way\n",
    "print(arr[5,5]) # More concise\n",
    "\n",
    "# Slicing the array\n",
    "print(arr[1:3, 4:6])"
   ]
  },
  {
   "cell_type": "markdown",
   "metadata": {},
   "source": [
    "2. **Ellipsis (`...`) Slicing**:\n",
    "- `arr[0, ...]`: This shorthand allows you to select the first slice along the first axis while leaving the other dimensions automatically filled."
   ]
  },
  {
   "cell_type": "code",
   "execution_count": 3,
   "metadata": {},
   "outputs": [
    {
     "name": "stdout",
     "output_type": "stream",
     "text": [
      "[[[0 1]\n",
      "  [2 3]]\n",
      "\n",
      " [[4 5]\n",
      "  [6 7]]]\n"
     ]
    }
   ],
   "source": [
    "# Ellipsis slicing: auto-complete the dimensions\n",
    "arr = np.array(range(16)).reshape(2,2,2,2)\n",
    "\n",
    "# Equivalent to arr[0,:,:,:]\n",
    "print(arr[0, ...])"
   ]
  },
  {
   "cell_type": "markdown",
   "metadata": {},
   "source": [
    "3. **Setting Values with Slicing**:\n",
    "- `arr[1:3, :] = 100`: Assigns the value 100 to the rows 1 and 2 in all columns.\n",
    "- `arr[:, 8:] = 100`: Assigns the value 100 to all rows, starting from column 8 to the end."
   ]
  },
  {
   "cell_type": "code",
   "execution_count": 4,
   "metadata": {},
   "outputs": [
    {
     "name": "stdout",
     "output_type": "stream",
     "text": [
      "[[[[  0   1]\n",
      "   [  2   3]]\n",
      "\n",
      "  [[  4   5]\n",
      "   [  6   7]]]\n",
      "\n",
      "\n",
      " [[[100 100]\n",
      "   [100 100]]\n",
      "\n",
      "  [[100 100]\n",
      "   [100 100]]]]\n"
     ]
    }
   ],
   "source": [
    "# Modify elements using slicing\n",
    "arr[1:3,:] = 100 # Assign 100 to rows 1 and 2\n",
    "arr[:,8:] = 100 # Assign 100 to all rows starting from column 8\n",
    "print(arr)"
   ]
  },
  {
   "cell_type": "markdown",
   "metadata": {},
   "source": [
    "4. **Boolean Indexing**:\n",
    "- `arr1[bools]`: Uses a boolean array to filter the elements in `arr1`.\n",
    "- `arr1[~bools]`: Negates the boolean condition.\n",
    "- `arr1[(arr2 < 2) | (arr2 > 4)]`: Applies multiple conditions to filter the elements."
   ]
  },
  {
   "cell_type": "code",
   "execution_count": 5,
   "metadata": {},
   "outputs": [
    {
     "name": "stdout",
     "output_type": "stream",
     "text": [
      "[[ 0  1  2  3  4]\n",
      " [ 5  6  7  8  9]\n",
      " [15 16 17 18 19]]\n",
      "[[10 11 12 13 14]\n",
      " [20 21 22 23 24]]\n",
      "[[ 0  1  2  3  4]\n",
      " [20 21 22 23 24]]\n"
     ]
    }
   ],
   "source": [
    "# Boolean indexing\n",
    "arr1 = np.arange(25).reshape((5,5))\n",
    "bools = np.array([True, True, False, True, False])\n",
    "print(arr1[bools]) # Select elements where bools is True\n",
    "\n",
    "# Negate the boolean condition\n",
    "print(arr1[~bools]) # Select elements where bools is False\n",
    "\n",
    "# Multiple conditions for filtering\n",
    "arr2 = np.array([1,2,3,4,5])\n",
    "print(arr1[(arr2<2) | (arr2>4)]) # Elements where arr2 is less than 2 or greater than 4"
   ]
  },
  {
   "cell_type": "markdown",
   "metadata": {},
   "source": [
    "5. **Fancy Indexing**:\n",
    "- `arr[[3,1,2], [3,2,1]]`: Selects specific elements using lists of indices for rows and columns.\n",
    "- `arr[[3,1,2]][:, [6,4,8]]`: Selects specific rows and columns using fancy indexing."
   ]
  },
  {
   "cell_type": "code",
   "execution_count": 6,
   "metadata": {},
   "outputs": [
    {
     "name": "stdout",
     "output_type": "stream",
     "text": [
      "[0.79902178 0.62122163 0.5504172 ]\n",
      "[[0.09080096 0.14884854 0.40579676]\n",
      " [0.47608016 0.63486576 0.86147349]\n",
      " [0.83954308 0.54939029 0.60408969]]\n"
     ]
    }
   ],
   "source": [
    "# Fancy indexing with row and column selections\n",
    "arr = np.random.rand(10,10)\n",
    "print(arr[[3,1,2], [3,2,1]]) # Select arr[3,3], arr[1,2], arr[2,1]\n",
    "\n",
    "# Select rows and columns using fancy indexing\n",
    "print(arr[[3,1,2]][:, [6,4,8]]) # Select rows 3,1,2 and columns 6,4,8"
   ]
  },
  {
   "cell_type": "markdown",
   "metadata": {},
   "source": [
    "6. **Negative Indexing**:\n",
    "- Using negative values like `-1` to infer dimensions, such as `arr.reshape(4, -1)` to automatically infer the number of columns."
   ]
  },
  {
   "cell_type": "code",
   "execution_count": 7,
   "metadata": {},
   "outputs": [
    {
     "name": "stdout",
     "output_type": "stream",
     "text": [
      "(4, 4)\n"
     ]
    }
   ],
   "source": [
    "# Using negative numbers for automatic dimension inference\n",
    "arr = np.array(range(16)).reshape((4,-1))\n",
    "print(arr.shape) # Automatically infers the number of columns"
   ]
  },
  {
   "cell_type": "markdown",
   "metadata": {},
   "source": [
    "7. **Conditional Selection**:\n",
    "- `arr[arr > 5]`: Selects the elements greater than 5 in the flattened array.\n",
    "- `np.where(condition, true_return, false_return)`: Returns elements based on a condition (e.g., `-1` if the condition is true, `10` otherwise)."
   ]
  },
  {
   "cell_type": "code",
   "execution_count": 8,
   "metadata": {},
   "outputs": [
    {
     "name": "stdout",
     "output_type": "stream",
     "text": [
      "[ 6  7  8  9 10 11 12 13 14 15]\n",
      "[[10 10 10 10]\n",
      " [10 10 -1 -1]\n",
      " [-1 -1 -1 -1]\n",
      " [-1 -1 -1 -1]]\n"
     ]
    }
   ],
   "source": [
    "# Finding elements greater than 5 using boolean indexing\n",
    "arr = np.arange(16).reshape(4,4)\n",
    "print(arr[arr > 5]) # Select elements greater than 5 (flattened array)\n",
    "\n",
    "# Using np.where for conditional selection\n",
    "print(np.where(arr > 5, -1, 10)) # -1 where condition is True, else 10"
   ]
  },
  {
   "cell_type": "markdown",
   "metadata": {},
   "source": [
    "8. **Finding Indices**:\n",
    "- `np.argwhere(arr > 5)`: Returns the indices of elements that satisfy the condition."
   ]
  },
  {
   "cell_type": "code",
   "execution_count": 9,
   "metadata": {},
   "outputs": [
    {
     "name": "stdout",
     "output_type": "stream",
     "text": [
      "[[1 2]\n",
      " [1 3]\n",
      " [2 0]\n",
      " [2 1]\n",
      " [2 2]\n",
      " [2 3]\n",
      " [3 0]\n",
      " [3 1]\n",
      " [3 2]\n",
      " [3 3]]\n"
     ]
    }
   ],
   "source": [
    "# Find the indices of elements that satisfy a condition\n",
    "print(np.argwhere(arr > 5)) # Indices where elements are greater than 5"
   ]
  }
 ],
 "metadata": {
  "kernelspec": {
   "display_name": "Python 3.9.19",
   "language": "python",
   "name": "python3"
  },
  "language_info": {
   "codemirror_mode": {
    "name": "ipython",
    "version": 3
   },
   "file_extension": ".py",
   "mimetype": "text/x-python",
   "name": "python",
   "nbconvert_exporter": "python",
   "pygments_lexer": "ipython3",
   "version": "3.9.19"
  },
  "orig_nbformat": 4,
  "vscode": {
   "interpreter": {
    "hash": "19ac704693c8cae2f9c9e88ff9c6c1340ec210896adf45c2deb54188ffc1c0c1"
   }
  }
 },
 "nbformat": 4,
 "nbformat_minor": 2
}
