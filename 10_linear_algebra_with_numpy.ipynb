{
 "cells": [
  {
   "cell_type": "markdown",
   "metadata": {},
   "source": [
    "# Linear Algebra with NumPy"
   ]
  },
  {
   "cell_type": "code",
   "execution_count": 45,
   "metadata": {},
   "outputs": [],
   "source": [
    "import numpy as np\n",
    "\n",
    "arr = np.random.rand(5,5)\n",
    "arr1 = np.random.rand(5,5)"
   ]
  },
  {
   "cell_type": "markdown",
   "metadata": {},
   "source": [
    "## 10.1 Different ways to compute the dot product (matrix multiplication) of two numpy arrays.\n",
    "\n",
    "1. **Using `arr1.dot(arr2)`**: The `dot()` method of a numpy array performs matrix multiplication between `arr1` and `arr2`. It computes the dot product of the two arrays.\n",
    "\n",
    "2. **Using `np.dot(arr1, arr2)`**: This is the same operation as `arr1.dot(arr2)`, but called through the numpy module directly.\n",
    "\n",
    "3. **Using `arr1 @ arr2`**: The `@` operator is an alternative syntax for matrix multiplication introduced in Python 3.5. It is functionally equivalent to `arr1.dot(arr2)`.\n",
    "\n",
    "All three methods return the same result, which is the matrix product of `arr1` and `arr2`."
   ]
  },
  {
   "cell_type": "code",
   "execution_count": 46,
   "metadata": {},
   "outputs": [
    {
     "name": "stdout",
     "output_type": "stream",
     "text": [
      "[[1.5970384  0.52600802 1.43703894 0.49949126 0.66834264]\n",
      " [2.48599862 1.59114183 2.52199601 1.33879293 1.42917484]\n",
      " [1.62187514 0.97463501 1.51179311 0.61586671 0.50215294]\n",
      " [2.97238901 1.56294612 2.78058829 1.39961903 1.69781224]\n",
      " [1.14336197 0.95689068 1.12300467 0.62726265 0.42825022]]\n"
     ]
    }
   ],
   "source": [
    "# Compute the dot product of arr1 and arr2 using different methods\n",
    "# Using the dot() method of the array\n",
    "print(arr.dot(arr1))"
   ]
  },
  {
   "cell_type": "code",
   "execution_count": 47,
   "metadata": {},
   "outputs": [
    {
     "name": "stdout",
     "output_type": "stream",
     "text": [
      "[[1.5970384  0.52600802 1.43703894 0.49949126 0.66834264]\n",
      " [2.48599862 1.59114183 2.52199601 1.33879293 1.42917484]\n",
      " [1.62187514 0.97463501 1.51179311 0.61586671 0.50215294]\n",
      " [2.97238901 1.56294612 2.78058829 1.39961903 1.69781224]\n",
      " [1.14336197 0.95689068 1.12300467 0.62726265 0.42825022]]\n"
     ]
    }
   ],
   "source": [
    "# Using np.dot() function\n",
    "print(np.dot(arr, arr1))"
   ]
  },
  {
   "cell_type": "code",
   "execution_count": 48,
   "metadata": {},
   "outputs": [
    {
     "name": "stdout",
     "output_type": "stream",
     "text": [
      "[[1.5970384  0.52600802 1.43703894 0.49949126 0.66834264]\n",
      " [2.48599862 1.59114183 2.52199601 1.33879293 1.42917484]\n",
      " [1.62187514 0.97463501 1.51179311 0.61586671 0.50215294]\n",
      " [2.97238901 1.56294612 2.78058829 1.39961903 1.69781224]\n",
      " [1.14336197 0.95689068 1.12300467 0.62726265 0.42825022]]\n"
     ]
    }
   ],
   "source": [
    "# Using the @ operator for matrix multiplication\n",
    "print(arr @ arr1)"
   ]
  },
  {
   "cell_type": "markdown",
   "metadata": {},
   "source": [
    "## 10.2 QR decomposition of a matrix using `np.linalg.qr()`.\n",
    "\n",
    "1. **QR Decomposition**: The `np.linalg.qr()` function decomposes the matrix `arr` into two components:\n",
    "- `q`: An orthogonal (or unitary) matrix. In the case of real matrices, `q` is an orthonormal matrix where its columns form an orthonormal set.\n",
    "- `r`: An upper triangular matrix.\n",
    "\n",
    "    The matrix `arr` is decomposed such that:\n",
    "\\[ arr = q \\cdot r \\]\n",
    "Where `q` is orthogonal and `r` is upper triangular\n",
    "\n",
    "2. **Output**: The code prints both the `q` and `r` matrices resulting from the QR decomposition."
   ]
  },
  {
   "cell_type": "code",
   "execution_count": 49,
   "metadata": {},
   "outputs": [
    {
     "name": "stdout",
     "output_type": "stream",
     "text": [
      "[[-0.54729925  0.2672899  -0.30147075  0.73349068  0.01124502]\n",
      " [-0.04388505 -0.50385027  0.73361812  0.45170332  0.04446994]\n",
      " [-0.04635836 -0.582862   -0.37980101  0.03268609 -0.71610447]\n",
      " [-0.82990566 -0.05638172  0.22541568 -0.50538698 -0.04300546]\n",
      " [-0.0874365  -0.57600695 -0.41935522 -0.03835558  0.6951553 ]]\n"
     ]
    }
   ],
   "source": [
    "# Perform QR decomposition on the array arr\n",
    "q, r = np.linalg.qr(arr) \n",
    "# Print the orthogonal matrix q\n",
    "print(q)"
   ]
  },
  {
   "cell_type": "code",
   "execution_count": 50,
   "metadata": {},
   "outputs": [
    {
     "name": "stdout",
     "output_type": "stream",
     "text": [
      "[[-0.90710178 -0.87874091 -0.63190489 -0.79432042 -1.31206058]\n",
      " [ 0.         -1.55564546 -0.39702304 -0.55668175 -0.65456564]\n",
      " [ 0.          0.          0.61296729  0.46397547  0.39604802]\n",
      " [ 0.          0.          0.          0.444712    0.46995324]\n",
      " [ 0.          0.          0.          0.         -0.38159386]]\n"
     ]
    }
   ],
   "source": [
    "# Print the upper triangular matrix r\n",
    "print(r)"
   ]
  },
  {
   "cell_type": "markdown",
   "metadata": {},
   "source": [
    "## 10.3 Singular Value Decomposition (SVD) of a matrix using `np.linalg.svd()`.\n",
    "\n",
    "1. **Singular Value Decomposition (SVD)**: The `np.linalg.svd()` function decomposes the matrix `arr` into three components:\n",
    "- `u`: An orthogonal matrix whose columns are the left singular vectors of `arr`.\n",
    "- `s`: A vector containing the singular values of `arr`. These values are ordered in descending order.\n",
    "- `v`: An orthogonal matrix whose rows are the right singular vectors of `arr`.\n",
    "    The matrix `arr` is decomposed as:\n",
    "\\[\n",
    "arr = u \\cdot s \\cdot v^T\n",
    "\\]\n",
    "Where `s` is a diagonal matrix of singular values, but it is returned as a vector for convenience. If needed, `s` can be converted into a diagonal matrix.\n",
    "\n",
    "2. **Output**: The code prints the matrices `u`, `s`, and `v` resulting from the SVD of the matrix `arr`."
   ]
  },
  {
   "cell_type": "code",
   "execution_count": 51,
   "metadata": {},
   "outputs": [
    {
     "name": "stdout",
     "output_type": "stream",
     "text": [
      "[[-0.2987034   0.53331626 -0.36445433  0.54428772  0.44415535]\n",
      " [-0.57248019  0.0065376   0.80237107  0.12027731  0.11814282]\n",
      " [-0.36467336 -0.44847759 -0.25293239  0.53129424 -0.56536079]\n",
      " [-0.62011964  0.27432072 -0.31540641 -0.61368074 -0.25320845]\n",
      " [-0.25594469 -0.66268169 -0.24478094 -0.17437496  0.63641257]]\n"
     ]
    }
   ],
   "source": [
    "# Perform Singular Value Decomposition (SVD) on the array arr\n",
    "u, s, v = np.linalg.svd(arr)\n",
    "\n",
    "# Print the left singular vectors matrix u\n",
    "print(u)"
   ]
  },
  {
   "cell_type": "code",
   "execution_count": 52,
   "metadata": {},
   "outputs": [
    {
     "name": "stdout",
     "output_type": "stream",
     "text": [
      "[2.71586367 1.02266968 0.57461157 0.41765277 0.22021713]\n"
     ]
    }
   ],
   "source": [
    "# Print the singular values vector s\n",
    "print(s)"
   ]
  },
  {
   "cell_type": "code",
   "execution_count": 53,
   "metadata": {},
   "outputs": [
    {
     "name": "stdout",
     "output_type": "stream",
     "text": [
      "[[-0.24800554 -0.58596327 -0.31152582 -0.40637555 -0.57701896]\n",
      " [ 0.39125085 -0.78755909  0.18705664  0.20157797  0.38865099]\n",
      " [-0.72481334 -0.17291136  0.51141769  0.41959476 -0.08449538]\n",
      " [-0.42731625 -0.07966564 -0.71553481  0.20336632  0.50764779]\n",
      " [ 0.27832081  0.01236036 -0.30728384  0.75947852 -0.50115245]]\n"
     ]
    }
   ],
   "source": [
    "# Print the right singular vectors matrix v\n",
    "print(v)"
   ]
  },
  {
   "cell_type": "markdown",
   "metadata": {},
   "source": [
    "## 10.4 Eigenvalues of a square matrix using `np.linalg.eigvals()`.\n",
    "1. **Eigenvalues**: `np.linalg.eigvals(arr)` computes the eigenvalues of the square matrix `arr`. Eigenvalues are scalars that satisfy the equation:\n",
    "\\[\n",
    "arr \\cdot v = \\lambda \\cdot v\n",
    "\\]\n",
    "where \\( \\lambda \\) is an eigenvalue and \\( v \\) is the corresponding eigenvector.\n",
    "\n",
    "2. **Output**: The function returns an array of eigenvalues of the matrix `arr`."
   ]
  },
  {
   "cell_type": "code",
   "execution_count": 54,
   "metadata": {},
   "outputs": [
    {
     "name": "stdout",
     "output_type": "stream",
     "text": [
      "[ 2.54361821+0.j          0.57540403+0.j         -0.5920649 +0.j\n",
      " -0.28370727+0.29816282j -0.28370727-0.29816282j]\n"
     ]
    }
   ],
   "source": [
    "# Compute the eigenvalues of the matrix arr\n",
    "print(np.linalg.eigvals(arr))"
   ]
  },
  {
   "cell_type": "markdown",
   "metadata": {},
   "source": [
    "## 10.5 The eigenvalues and eigenvectors of a square matrix using `np.linalg.eig()`.\n",
    "1. **Eigenvalues and Eigenvectors**: `np.linalg.eig(arr)` returns two outputs:\n",
    "- `w`: The eigenvalues of the matrix `arr`. These are the scalars that satisfy the equation \\( arr \\cdot v = \\lambda \\cdot v \\), where \\( \\lambda \\) is the eigenvalue and \\( v \\) is the corresponding eigenvector.\n",
    "- `v`: The eigenvectors of the matrix `arr`. These are the non-zero vectors that, when multiplied by `arr`, only get scaled by the corresponding eigenvalue.\n",
    "\n",
    "2. **Output**: The code prints the eigenvalues (`w`) and the eigenvectors (`v`) of the matrix `arr`."
   ]
  },
  {
   "cell_type": "code",
   "execution_count": 55,
   "metadata": {},
   "outputs": [
    {
     "name": "stdout",
     "output_type": "stream",
     "text": [
      "[ 2.54361821+0.j          0.57540403+0.j         -0.5920649 +0.j\n",
      " -0.28370727+0.29816282j -0.28370727-0.29816282j]\n"
     ]
    }
   ],
   "source": [
    "# Compute the eigenvalues and eigenvectors of the matrix arr\n",
    "w, v = np.linalg.eig(arr)\n",
    "\n",
    "# Print the eigenvalues\n",
    "print(w)"
   ]
  },
  {
   "cell_type": "code",
   "execution_count": 56,
   "metadata": {},
   "outputs": [
    {
     "name": "stdout",
     "output_type": "stream",
     "text": [
      "[[ 0.27614751+0.j          0.77106888+0.j          0.49088815+0.j\n",
      "   0.08448643+0.1744927j   0.08448643-0.1744927j ]\n",
      " [ 0.59109379+0.j         -0.22721279+0.j          0.44487079+0.j\n",
      "   0.11461002-0.13031251j  0.11461002+0.13031251j]\n",
      " [ 0.34187957+0.j         -0.33758037+0.j         -0.01883937+0.j\n",
      "  -0.22580651+0.4692568j  -0.22580651-0.4692568j ]\n",
      " [ 0.61288445+0.j          0.46209325+0.j          0.02060426+0.j\n",
      "   0.602122  +0.j          0.602122  -0.j        ]\n",
      " [ 0.28607987+0.j         -0.16228508+0.j         -0.74855818+0.j\n",
      "  -0.51999635-0.16780913j -0.51999635+0.16780913j]]\n"
     ]
    }
   ],
   "source": [
    "# Print the eigenvectors\n",
    "print(v)"
   ]
  },
  {
   "cell_type": "markdown",
   "metadata": {},
   "source": [
    "## 10.6 Trace of a matrix using `np.trace()`.\n",
    "1. **Trace of a Matrix**: `np.trace(arr)` calculates the sum of the diagonal elements of the square matrix `arr`. The trace is a scalar value and is only defined for square matrices.\n",
    "2. **Output**: The function returns the sum of the diagonal elements of `arr`.\n",
    "\n",
    "**Note**: The `np.trace()` function is not part of `np.linalg`, but it is a standalone function in the `numpy` module."
   ]
  },
  {
   "cell_type": "code",
   "execution_count": 57,
   "metadata": {},
   "outputs": [
    {
     "name": "stdout",
     "output_type": "stream",
     "text": [
      "1.959542800750345\n"
     ]
    }
   ],
   "source": [
    "# Compute the trace of the matrix arr (sum of diagonal elements)\n",
    "print(np.trace(arr))"
   ]
  },
  {
   "cell_type": "markdown",
   "metadata": {},
   "source": [
    "## 10.7 Determinant of a square matrix using `np.linalg.det()`.\n",
    "1. **Determinant of a Matrix**: `np.linalg.det(arr)` computes the determinant of the square matrix `arr`. The determinant is a scalar value that provides information about the matrix, such as whether it is invertible:\n",
    "- If the determinant is non-zero, the matrix is invertible.\n",
    "- If the determinant is zero, the matrix is singular and does not have an inverse.\n",
    "\n",
    "2. **Output**: The function returns the determinant of `arr`."
   ]
  },
  {
   "cell_type": "code",
   "execution_count": 58,
   "metadata": {},
   "outputs": [
    {
     "name": "stdout",
     "output_type": "stream",
     "text": [
      "-0.146785843861847\n"
     ]
    }
   ],
   "source": [
    "# Compute the determinant of the matrix arr\n",
    "print(np.linalg.det(arr))"
   ]
  },
  {
   "cell_type": "markdown",
   "metadata": {},
   "source": [
    "## 10.8 Inverse of a square matrix using `np.linalg.inv()`.\n",
    "1. **Inverse of a Matrix**: `np.linalg.inv(arr)` computes the inverse of the matrix `arr`. The inverse of a matrix `A` is another matrix `B` such that:\n",
    "\\[\n",
    "A \\cdot B = I\n",
    "\\]\n",
    "where \\( I \\) is the identity matrix. Only square matrices with a non-zero determinant have an inverse.\n",
    "\n",
    "2. **Output**: The function returns the inverse of the matrix `arr`.\n",
    "\n",
    "**Note**: If the determinant of the matrix is zero (i.e., the matrix is singular), `np.linalg.inv()` will raise a `LinAlgError`."
   ]
  },
  {
   "cell_type": "code",
   "execution_count": 59,
   "metadata": {},
   "outputs": [],
   "source": [
    "# Generate a 5x5 matrix with random values between 0 and 1\n",
    "arr = np.random.rand(5,5)"
   ]
  },
  {
   "cell_type": "code",
   "execution_count": 60,
   "metadata": {},
   "outputs": [
    {
     "name": "stdout",
     "output_type": "stream",
     "text": [
      "[[ 1.19702118  1.24802609 -2.02901116  0.32768765 -0.80843985]\n",
      " [ 2.64966597 -2.63951551 -1.59568582  0.18555445  2.05428101]\n",
      " [ 0.3122916  -1.41812528  3.06971715  1.48977226 -1.14093361]\n",
      " [ 0.11897873 -1.13978167  1.22433964 -1.13851161  1.59392938]\n",
      " [-3.28730758  3.45237703  1.21488302  0.68268346 -2.19148279]]\n"
     ]
    }
   ],
   "source": [
    "# Compute the inverse of the matrix arr\n",
    "print(np.linalg.inv(arr))"
   ]
  },
  {
   "cell_type": "markdown",
   "metadata": {},
   "source": [
    "## 10.9 Pseudo-inverse of a matrix using `np.linalg.pinv()`.\n",
    "1. **Pseudo-Inverse**: `np.linalg.pinv(arr)` computes the Moore-Penrose pseudo-inverse of the matrix `arr`. The pseudo-inverse is a generalization of the matrix inverse for non-square or singular matrices, providing a best-fit solution in the least-squares sense.\n",
    "- For non-square matrices, the pseudo-inverse is often used to solve systems of linear equations that don't have a unique solution.\n",
    "- The pseudo-inverse minimizes the error in an over- or under-determined system of equations.\n",
    "\n",
    "2. **Output**: The function returns the pseudo-inverse of the matrix `arr`."
   ]
  },
  {
   "cell_type": "code",
   "execution_count": 61,
   "metadata": {},
   "outputs": [
    {
     "name": "stdout",
     "output_type": "stream",
     "text": [
      "[[ 1.19702118  1.24802609 -2.02901116  0.32768765 -0.80843985]\n",
      " [ 2.64966597 -2.63951551 -1.59568582  0.18555445  2.05428101]\n",
      " [ 0.3122916  -1.41812528  3.06971715  1.48977226 -1.14093361]\n",
      " [ 0.11897873 -1.13978167  1.22433964 -1.13851161  1.59392938]\n",
      " [-3.28730758  3.45237703  1.21488302  0.68268346 -2.19148279]]\n"
     ]
    }
   ],
   "source": [
    "# Compute the pseudo-inverse of the matrix arr\n",
    "print(np.linalg.pinv(arr))"
   ]
  },
  {
   "cell_type": "markdown",
   "metadata": {},
   "source": [
    "## 10.10 Linear system of equations in closed form using `np.linalg.solve()`.\n",
    "1. **Solving a Linear System**: `np.linalg.solve(arr, y)` solves the system of linear equations \\( A \\cdot x = b \\), where:\n",
    "- `arr` is the coefficient matrix (square matrix).\n",
    "- `y` is the right-hand side vector (or matrix).\n",
    "- `x` is the solution vector (or matrix).\n",
    "The function computes `x = A^(-1) * b`, where `A` is `arr` and `b` is `y`.\n",
    "\n",
    "2. **Output**: The function returns the solution vector `x`, which satisfies the equation \\( arr \\cdot x = y \\).\n",
    "\n",
    "**Note**: This method requires that the matrix `arr` is square and non-singular (i.e., it must have a non-zero determinant)."
   ]
  },
  {
   "cell_type": "code",
   "execution_count": 62,
   "metadata": {},
   "outputs": [
    {
     "name": "stdout",
     "output_type": "stream",
     "text": [
      "[-5.12540877  3.59720032  6.93961348  4.92803478 -0.96458457]\n"
     ]
    }
   ],
   "source": [
    "# Solve the linear system arr * x = y\n",
    "y = [1, 2, 3, 4, 5]\n",
    "print(np.linalg.solve(arr, y))"
   ]
  },
  {
   "cell_type": "markdown",
   "metadata": {},
   "source": [
    "## 10.11 The least-squares solution of a linear system using `np.linalg.lstsq()`.\n",
    "1. **Least-Squares Solution**: `np.linalg.lstsq(arr, y)` computes the least-squares solution to the equation \\( A \\cdot x = b \\), where:\n",
    "- `arr` is the coefficient matrix (can be rectangular).\n",
    "- `y` is the right-hand side vector.\n",
    "- The function minimizes the residual sum of squares, \\( \\| A \\cdot x - b \\|_2^2 \\), to find the best approximation for `x` when the system has no exact solution (e.g., in an over- or under-determined system).\n",
    "\n",
    "2. **Output**:\n",
    "- `solution`: The least-squares solution vector `x`.\n",
    "- `residuals`: The sum of squared residuals, indicating the error between the solution and the original system.\n",
    "- `rank`: The rank of the matrix `arr`, indicating the number of linearly independent rows or columns.\n",
    "- `singular`: The singular values of the matrix `arr`, which can provide insights into the condition of the matrix."
   ]
  },
  {
   "cell_type": "code",
   "execution_count": 63,
   "metadata": {},
   "outputs": [
    {
     "name": "stdout",
     "output_type": "stream",
     "text": [
      "Solution: [-5.12540877  3.59720032  6.93961348  4.92803478 -0.96458457]\n",
      "Residuals: []\n",
      "Rank: 5\n",
      "Singular: [2.42526383 1.23640711 0.36818321 0.22197423 0.13957397]\n"
     ]
    },
    {
     "name": "stderr",
     "output_type": "stream",
     "text": [
      "C:\\Users\\admin\\AppData\\Local\\Temp\\ipykernel_20880\\952501145.py:3: FutureWarning: `rcond` parameter will change to the default of machine precision times ``max(M, N)`` where M and N are the input matrix dimensions.\n",
      "To use the future default and silence this warning we advise to pass `rcond=None`, to keep using the old, explicitly pass `rcond=-1`.\n",
      "  solution, residuals, rank, singular = np.linalg.lstsq(arr, y)\n"
     ]
    }
   ],
   "source": [
    "# Calculate the least-squares solution of the system arr * x = y\n",
    "y = [1, 2, 3, 4, 5]\n",
    "solution, residuals, rank, singular = np.linalg.lstsq(arr, y)\n",
    "\n",
    "# Print the solution, residuals, rank, and singular values\n",
    "print(f'Solution: {solution}')\n",
    "print(f'Residuals: {residuals}')\n",
    "print(f'Rank: {rank}')\n",
    "print(f'Singular: {singular}')"
   ]
  },
  {
   "cell_type": "code",
   "execution_count": null,
   "metadata": {},
   "outputs": [],
   "source": []
  }
 ],
 "metadata": {
  "kernelspec": {
   "display_name": "Python 3.9.19",
   "language": "python",
   "name": "python3"
  },
  "language_info": {
   "codemirror_mode": {
    "name": "ipython",
    "version": 3
   },
   "file_extension": ".py",
   "mimetype": "text/x-python",
   "name": "python",
   "nbconvert_exporter": "python",
   "pygments_lexer": "ipython3",
   "version": "3.9.19"
  },
  "orig_nbformat": 4,
  "vscode": {
   "interpreter": {
    "hash": "19ac704693c8cae2f9c9e88ff9c6c1340ec210896adf45c2deb54188ffc1c0c1"
   }
  }
 },
 "nbformat": 4,
 "nbformat_minor": 2
}
