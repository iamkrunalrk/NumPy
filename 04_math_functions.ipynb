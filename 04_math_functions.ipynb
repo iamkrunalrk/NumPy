{
 "cells": [
  {
   "cell_type": "code",
   "execution_count": 83,
   "metadata": {},
   "outputs": [],
   "source": [
    "import numpy as np"
   ]
  },
  {
   "cell_type": "markdown",
   "metadata": {},
   "source": [
    "This code demonstrates various element-wise operations on numpy arrays, using both basic arithmetic operators and numpy's built-in functions. The built-in functions offer advantages in terms of memory efficiency when modifying the original array directly.\n",
    "## 4.1. **Element-wise Arithmetic Operations**:\n",
    "- `arr + 10`: Adds 10 to each element of the array.\n",
    "- `arr - 10`: Subtracts 10 from each element.\n",
    "- `arr * 10`: Multiplies each element by 10.\n",
    "- `arr / 10`: Divides each element by 10."
   ]
  },
  {
   "cell_type": "code",
   "execution_count": 84,
   "metadata": {},
   "outputs": [
    {
     "name": "stdout",
     "output_type": "stream",
     "text": [
      "Addition: \n",
      " [[10.97215698 10.6113362  10.73476094 10.99951932 10.04641473]\n",
      " [10.02005615 10.06055533 10.67758304 10.43552629 10.0544114 ]\n",
      " [10.10845194 10.76487097 10.57848987 10.92296293 10.70571227]\n",
      " [10.42967586 10.38112875 10.9969613  10.03132294 10.64167277]\n",
      " [10.95240818 10.77267385 10.58806327 10.83835931 10.12647884]]\n",
      "\n",
      "Subtraction : \n",
      " [[-9.02784302 -9.3886638  -9.26523906 -9.00048068 -9.95358527]\n",
      " [-9.97994385 -9.93944467 -9.32241696 -9.56447371 -9.9455886 ]\n",
      " [-9.89154806 -9.23512903 -9.42151013 -9.07703707 -9.29428773]\n",
      " [-9.57032414 -9.61887125 -9.0030387  -9.96867706 -9.35832723]\n",
      " [-9.04759182 -9.22732615 -9.41193673 -9.16164069 -9.87352116]]\n",
      "\n",
      "Multiplication : \n",
      " [[9.72156979 6.11336198 7.34760937 9.99519324 0.46414733]\n",
      " [0.20056154 0.6055533  6.77583039 4.35526289 0.54411403]\n",
      " [1.08451943 7.64870969 5.78489868 9.22962928 7.05712266]\n",
      " [4.29675861 3.81128748 9.96961297 0.31322936 6.41672774]\n",
      " [9.5240818  7.72673849 5.88063265 8.38359315 1.26478835]]\n",
      "\n",
      "Division : \n",
      " [[0.0972157  0.06113362 0.07347609 0.09995193 0.00464147]\n",
      " [0.00200562 0.00605553 0.0677583  0.04355263 0.00544114]\n",
      " [0.01084519 0.0764871  0.05784899 0.09229629 0.07057123]\n",
      " [0.04296759 0.03811287 0.09969613 0.00313229 0.06416728]\n",
      " [0.09524082 0.07726738 0.05880633 0.08383593 0.01264788]]\n"
     ]
    }
   ],
   "source": [
    "# Create a 5x5 array of random numbers between 0 and 1\n",
    "arr = np.random.rand(5,5)\n",
    "\n",
    "# Perform element-wise arithmetic operations using basic operators\n",
    "print(f'Addition: \\n {arr + 10}\\n') # Add 10 to each element\n",
    "print(f'Subtraction : \\n {arr - 10}\\n') # Subtract 10 from each element\n",
    "print(f'Multiplication : \\n {arr * 10}\\n') # Multiply each element by 10\n",
    "print(f'Division : \\n {arr / 10}') # Divide each element by 10"
   ]
  },
  {
   "cell_type": "markdown",
   "metadata": {},
   "source": [
    "## 4.2. **Numpy Built-in Functions**:\n",
    "- `np.add()`, `np.subtract()`, and `np.multiply()` perform the same operations but can be more memory-efficient when using the `out` parameter. This allows storing the result in the original array (`arr1` in this case), avoiding the need to allocate new memory for the result."
   ]
  },
  {
   "cell_type": "code",
   "execution_count": 85,
   "metadata": {},
   "outputs": [
    {
     "name": "stdout",
     "output_type": "stream",
     "text": [
      "Addition: [ 9 11 13]\n",
      "\n",
      "Subtraction: [1 2 3]\n",
      "\n",
      "Multiplication: [1 4 9]\n"
     ]
    }
   ],
   "source": [
    "# Create a 1D array for testing numpy functions\n",
    "arr1 = np.array([1, 2, 3])\n",
    "\n",
    "# Perform element-wise addition using numpy's add function\n",
    "np.add(arr1, [8, 9, 10], out=arr1)\n",
    "print(f'Addition: {arr1}')\n",
    "\n",
    "# Perform element-wise subtraction using numpy's subtract function\n",
    "np.subtract(arr1, [8, 9, 10], out=arr1)\n",
    "print(f'\\nSubtraction: {arr1}')\n",
    "\n",
    "# Perform element-wise multiplication using numpy's multiply function\n",
    "np.multiply(arr1, [1, 2, 3], out=arr1)\n",
    "print(f'\\nMultiplication: {arr1}')"
   ]
  },
  {
   "cell_type": "markdown",
   "metadata": {},
   "source": [
    "**Mathematical Functions**:\n",
    "\n",
    "- `np.exp(arr)`: Computes the element-wise exponential (`e^x`) of each element in the array."
   ]
  },
  {
   "cell_type": "code",
   "execution_count": 86,
   "metadata": {},
   "outputs": [
    {
     "name": "stdout",
     "output_type": "stream",
     "text": [
      "[[2.64364059 1.84289222 2.08498349 2.71697553 1.04750876]\n",
      " [1.02025863 1.06242638 1.96911271 1.54577637 1.05591892]\n",
      " [1.11455135 2.1487171  1.78334331 2.51673626 2.02528872]\n",
      " [1.53675932 1.46393607 2.71003431 1.03181866 1.89965592]\n",
      " [2.59194402 2.16554887 1.80049795 2.31256966 1.13482543]]\n"
     ]
    }
   ],
   "source": [
    "# Compute the element-wise exponential of the array\n",
    "print(np.exp(arr))"
   ]
  },
  {
   "cell_type": "markdown",
   "metadata": {},
   "source": [
    "- `np.log(arr)`: Computes the natural logarithm (base `e`) of each element."
   ]
  },
  {
   "cell_type": "code",
   "execution_count": 87,
   "metadata": {},
   "outputs": [
    {
     "name": "stdout",
     "output_type": "stream",
     "text": [
      "[[-2.82379869e-02 -4.92108229e-01 -3.08210088e-01 -4.80791672e-04\n",
      "  -3.07013836e+00]\n",
      " [-3.90921925e+00 -2.80419778e+00 -3.89223167e-01 -8.31200119e-01\n",
      "  -2.91118153e+00]\n",
      " [-2.22144812e+00 -2.68048128e-01 -5.47334247e-01 -8.01662097e-02\n",
      "  -3.48547679e-01]\n",
      " [-8.44724167e-01 -9.64618040e-01 -3.04332926e-03 -3.46340467e+00\n",
      "  -4.43676802e-01]\n",
      " [-4.87615759e-02 -2.57898249e-01 -5.30920743e-01 -1.76308494e-01\n",
      "  -2.06768029e+00]]\n"
     ]
    }
   ],
   "source": [
    "# Compute the natural logarithm of the array\n",
    "print(np.log(arr))"
   ]
  },
  {
   "cell_type": "markdown",
   "metadata": {},
   "source": [
    "- `np.log2(arr)`: Computes the logarithm with base 2 of each element."
   ]
  },
  {
   "cell_type": "code",
   "execution_count": 88,
   "metadata": {},
   "outputs": [
    {
     "name": "stdout",
     "output_type": "stream",
     "text": [
      "[[-4.07388037e-02 -7.09962101e-01 -4.44653166e-01 -6.93635761e-04\n",
      "  -4.42927338e+00]\n",
      " [-5.63981123e+00 -4.04560223e+00 -5.61530333e-01 -1.19916829e+00\n",
      "  -4.19994716e+00]\n",
      " [-3.20487219e+00 -3.86711705e-01 -7.89636404e-01 -1.15655393e-01\n",
      "  -5.02848008e-01]\n",
      " [-1.21867937e+00 -1.39164966e+00 -4.39059603e-03 -4.99663674e+00\n",
      "  -6.40090322e-01]\n",
      " [-7.03480837e-02 -3.72068525e-01 -7.65956723e-01 -2.54359390e-01\n",
      "  -2.98303211e+00]]\n"
     ]
    }
   ],
   "source": [
    "# Compute the logarithm with base 2 of the array\n",
    "print(np.log2(arr))"
   ]
  },
  {
   "cell_type": "markdown",
   "metadata": {},
   "source": [
    "- `np.log10(arr)`: Computes the logarithm with base 10 of each element."
   ]
  },
  {
   "cell_type": "code",
   "execution_count": 89,
   "metadata": {},
   "outputs": [
    {
     "name": "stdout",
     "output_type": "stream",
     "text": [
      "[[-1.22636019e-02 -2.13719888e-01 -1.33853941e-01 -2.08805170e-04\n",
      "  -1.33334415e+00]\n",
      " [-1.69775235e+00 -1.21784762e+00 -1.69037474e-01 -3.60985625e-01\n",
      "  -1.26431007e+00]\n",
      " [-9.64762661e-01 -1.16411823e-01 -2.37704243e-01 -3.48157425e-02\n",
      "  -1.51372334e-01]\n",
      " [-3.66859044e-01 -4.18928292e-01 -1.32170111e-03 -1.50413754e+00\n",
      "  -1.92686387e-01]\n",
      " [-2.11768833e-02 -1.12003786e-01 -2.30575949e-01 -7.65698060e-02\n",
      "  -8.97982142e-01]]\n"
     ]
    }
   ],
   "source": [
    "# Compute the logarithm with base 10 of the array\n",
    "print(np.log10(arr))"
   ]
  },
  {
   "cell_type": "markdown",
   "metadata": {},
   "source": [
    "- `np.sqrt(arr)`: Computes the square root of each element."
   ]
  },
  {
   "cell_type": "code",
   "execution_count": 90,
   "metadata": {},
   "outputs": [
    {
     "name": "stdout",
     "output_type": "stream",
     "text": [
      "[[0.98598021 0.78187991 0.85718197 0.99975963 0.21544079]\n",
      " [0.14161975 0.24607993 0.82315432 0.65994416 0.23326252]\n",
      " [0.32932043 0.87456902 0.76058521 0.9607096  0.84006682]\n",
      " [0.65549665 0.61735626 0.99847949 0.17698287 0.8010448 ]\n",
      " [0.97591402 0.87901869 0.76685283 0.91561963 0.35563863]]\n"
     ]
    }
   ],
   "source": [
    "# Compute the square root of each element in the array\n",
    "print(np.sqrt(arr))"
   ]
  },
  {
   "cell_type": "markdown",
   "metadata": {},
   "source": [
    "- `np.sin(arr)`: Computes the sine of each element (in radians)."
   ]
  },
  {
   "cell_type": "code",
   "execution_count": 91,
   "metadata": {},
   "outputs": [
    {
     "name": "stdout",
     "output_type": "stream",
     "text": [
      "[[0.82610313 0.57396216 0.67040979 0.84121118 0.04639807]\n",
      " [0.02005481 0.06051833 0.62691183 0.42188762 0.05438456]\n",
      " [0.10823947 0.69244391 0.54676014 0.79739313 0.64857614]\n",
      " [0.41657615 0.37196846 0.83982528 0.03131781 0.59853633]\n",
      " [0.81481394 0.69805233 0.55475067 0.74354702 0.12614189]]\n"
     ]
    }
   ],
   "source": [
    "# Compute the sine of each element (in radians)\n",
    "print(np.sin(arr))"
   ]
  },
  {
   "cell_type": "markdown",
   "metadata": {},
   "source": [
    "- `np.cos(arr)`: Computes the cosine of each element (in radians)."
   ]
  },
  {
   "cell_type": "code",
   "execution_count": 92,
   "metadata": {},
   "outputs": [
    {
     "name": "stdout",
     "output_type": "stream",
     "text": [
      "[[0.56351896 0.81888182 0.74199104 0.54070672 0.99892303]\n",
      " [0.99979888 0.99816709 0.77909021 0.90664813 0.99852006]\n",
      " [0.99412485 0.72147171 0.83728928 0.60346019 0.76114979]\n",
      " [0.90910083 0.92824537 0.54285679 0.99950948 0.80109566]\n",
      " [0.57972255 0.71604675 0.83201664 0.66868365 0.99201221]]\n"
     ]
    }
   ],
   "source": [
    "# Compute the cosine of each element (in radians)\n",
    "print(np.cos(arr))"
   ]
  },
  {
   "cell_type": "markdown",
   "metadata": {},
   "source": [
    "## 4.3. **Aggregation Functions**:\n",
    "- `np.sum(arr, axis=0)`: Computes the sum of elements along the rows (axis 0)."
   ]
  },
  {
   "cell_type": "code",
   "execution_count": 93,
   "metadata": {},
   "outputs": [
    {
     "name": "stdout",
     "output_type": "stream",
     "text": [
      "[2.48274912 2.59056509 3.57585841 3.22769079 1.57469001]\n"
     ]
    }
   ],
   "source": [
    "# Sum the elements along the rows (axis=0)\n",
    "print(np.sum(arr, axis=0))"
   ]
  },
  {
   "cell_type": "markdown",
   "metadata": {},
   "source": [
    "- `np.sum(arr, axis=1)`: Computes the sum of elements along the columns (axis 1)."
   ]
  },
  {
   "cell_type": "code",
   "execution_count": 94,
   "metadata": {},
   "outputs": [
    {
     "name": "stdout",
     "output_type": "stream",
     "text": [
      "[3.36418817 1.24813222 3.08048797 2.48076162 3.27798344]\n"
     ]
    }
   ],
   "source": [
    "# Sum the elements along the columns (axis=1)\n",
    "print(np.sum(arr, axis=1))"
   ]
  },
  {
   "cell_type": "markdown",
   "metadata": {},
   "source": [
    "- `np.min(arr, axis=0)`: Computes the minimum value along the rows."
   ]
  },
  {
   "cell_type": "code",
   "execution_count": 95,
   "metadata": {},
   "outputs": [
    {
     "name": "stdout",
     "output_type": "stream",
     "text": [
      "[0.02005615 0.06055533 0.57848987 0.03132294 0.04641473]\n"
     ]
    }
   ],
   "source": [
    "# Find the minimum value along the rows (axis=0)\n",
    "print(np.min(arr, axis=0))"
   ]
  },
  {
   "cell_type": "markdown",
   "metadata": {},
   "source": [
    "- `np.max(arr, axis=1)`: Computes the maximum value along the columns."
   ]
  },
  {
   "cell_type": "code",
   "execution_count": 96,
   "metadata": {},
   "outputs": [
    {
     "name": "stdout",
     "output_type": "stream",
     "text": [
      "[0.99951932 0.67758304 0.92296293 0.9969613  0.95240818]\n"
     ]
    }
   ],
   "source": [
    "# Find the maximum value along the columns (axis=1)\n",
    "print(np.max(arr, axis=1))"
   ]
  },
  {
   "cell_type": "markdown",
   "metadata": {},
   "source": [
    "- `np.max(arr)` and `np.min(arr)`: Computes the maximum and minimum values of all elements in the array (without specifying an axis)."
   ]
  },
  {
   "cell_type": "code",
   "execution_count": 97,
   "metadata": {},
   "outputs": [
    {
     "name": "stdout",
     "output_type": "stream",
     "text": [
      "0.9995193238899295\n"
     ]
    }
   ],
   "source": [
    "# Find the maximum value of all elements in the array\n",
    "print(np.max(arr))"
   ]
  },
  {
   "cell_type": "code",
   "execution_count": 98,
   "metadata": {},
   "outputs": [
    {
     "name": "stdout",
     "output_type": "stream",
     "text": [
      "0.020056153740503402\n"
     ]
    }
   ],
   "source": [
    "# Find the minimum value of all elements in the array\n",
    "print(np.min(arr))"
   ]
  },
  {
   "cell_type": "markdown",
   "metadata": {},
   "source": [
    "## 4.4. **Argmin and Argmax**:\n",
    "- `np.argmin(arr, axis=0)`: Returns the indices of the minimum values along the rows.\n"
   ]
  },
  {
   "cell_type": "code",
   "execution_count": 99,
   "metadata": {},
   "outputs": [
    {
     "name": "stdout",
     "output_type": "stream",
     "text": [
      "[1 1 2 3 0]\n"
     ]
    }
   ],
   "source": [
    "# Find the index of the minimum value along the row (axis=0)\n",
    "print(np.argmin(arr, axis=0))"
   ]
  },
  {
   "cell_type": "markdown",
   "metadata": {},
   "source": [
    "- `np.argmax(arr, axis=0)`: Returns the indices of the maximum values along the rows."
   ]
  },
  {
   "cell_type": "code",
   "execution_count": 100,
   "metadata": {},
   "outputs": [
    {
     "name": "stdout",
     "output_type": "stream",
     "text": [
      "[0 4 3 0 2]\n"
     ]
    }
   ],
   "source": [
    "# Find the index of the maximum value along the row (axis=0)\n",
    "print(np.argmax(arr, axis=0))"
   ]
  },
  {
   "cell_type": "markdown",
   "metadata": {},
   "source": [
    "- `np.argmin(arr, axis=1)`: Returns the indices of the minimum values along the columns."
   ]
  },
  {
   "cell_type": "code",
   "execution_count": 101,
   "metadata": {},
   "outputs": [
    {
     "name": "stdout",
     "output_type": "stream",
     "text": [
      "[4 0 0 3 4]\n"
     ]
    }
   ],
   "source": [
    "# Find the index of the minimum value along the column (axis=1)\n",
    "print(np.argmin(arr, axis=1))"
   ]
  },
  {
   "cell_type": "markdown",
   "metadata": {},
   "source": [
    "- `np.argmax(arr, axis=1)`: Returns the indices of the maximum values along the columns."
   ]
  },
  {
   "cell_type": "code",
   "execution_count": 102,
   "metadata": {},
   "outputs": [
    {
     "name": "stdout",
     "output_type": "stream",
     "text": [
      "[3 2 3 2 0]\n"
     ]
    }
   ],
   "source": [
    "# Find the index of the maximum value along the column (axis=1)\n",
    "print(np.argmax(arr, axis=1))"
   ]
  },
  {
   "cell_type": "markdown",
   "metadata": {},
   "source": [
    "- `np.argmin(arr)` and `np.argmax(arr)`: Returns the index of the minimum and maximum value in the flattened array (entire array)."
   ]
  },
  {
   "cell_type": "code",
   "execution_count": 103,
   "metadata": {},
   "outputs": [
    {
     "name": "stdout",
     "output_type": "stream",
     "text": [
      "5\n",
      "3\n"
     ]
    }
   ],
   "source": [
    "# Find the index of the minimum and maximum values in the flattened array\n",
    "print(np.argmin(arr))\n",
    "print(np.argmax(arr))"
   ]
  },
  {
   "cell_type": "markdown",
   "metadata": {},
   "source": [
    "## 4.5. **Element-wise Comparison**:\n",
    "- `np.maximum(arr1, arr2)`: Returns an array with the element-wise maximum of two arrays.\n",
    "- `np.minimum(arr1, arr2)`: Returns an array with the element-wise minimum of two arrays."
   ]
  },
  {
   "cell_type": "code",
   "execution_count": 104,
   "metadata": {},
   "outputs": [
    {
     "name": "stdout",
     "output_type": "stream",
     "text": [
      "[1 4 5 8 9]\n",
      "[0 3 3 7 7]\n"
     ]
    }
   ],
   "source": [
    "# Element-wise comparison of two arrays: maximum and minimum\n",
    "arr1 = np.array([1, 3, 5, 7, 9])\n",
    "arr2 = np.array([0, 4, 3, 8, 7])\n",
    "\n",
    "print(np.maximum(arr1, arr2))\n",
    "print(np.minimum(arr1, arr2))"
   ]
  },
  {
   "cell_type": "markdown",
   "metadata": {},
   "source": [
    "## 4.6. **Fractional and Integral Parts**:\n",
    "- `np.modf(arr1)`: Splits each element into its fractional and integral parts."
   ]
  },
  {
   "cell_type": "code",
   "execution_count": 105,
   "metadata": {},
   "outputs": [
    {
     "name": "stdout",
     "output_type": "stream",
     "text": [
      "Fractional:  [0.59146957 0.20431238 0.26829668 0.19310871 0.65817922 0.24276208\n",
      " 0.75628279 0.37442941 0.59648955 0.03505076]\n",
      "Integral:  [2. 7. 0. 8. 9. 7. 4. 1. 4. 9.]\n"
     ]
    }
   ],
   "source": [
    "# Split the array into fractional and integral parts\n",
    "arr1 = np.random.rand(10) * 10\n",
    "re, intg = np.modf(arr1)\n",
    "\n",
    "print('Fractional: ', re)\n",
    "print('Integral: ', intg)"
   ]
  },
  {
   "cell_type": "markdown",
   "metadata": {},
   "source": [
    "## 4.7. **Statistical Functions**:\n",
    "- `np.mean()`, `np.median()`, `np.std()`, `np.var()`: Compute the mean, median, standard deviation, and variance, respectively, along the entire array or along specific axes (rows or columns).\n",
    "- `np.percentile()`: Computes specific percentiles of the array."
   ]
  },
  {
   "cell_type": "code",
   "execution_count": 106,
   "metadata": {},
   "outputs": [
    {
     "name": "stdout",
     "output_type": "stream",
     "text": [
      "Mean : 0.5380621368034373\n",
      "\n",
      "Mean (Axis = 0) : [0.49654982 0.51811302 0.71517168 0.64553816 0.314938  ]\n",
      "\n",
      "Mean (Axis = 1) : [0.67283763 0.24962644 0.61609759 0.49615232 0.65559669]\n",
      "\n",
      "Median : 0.6113361981018396\n",
      "\n",
      "Median(Axis = 0) : [0.42967586 0.6113362  0.67758304 0.83835931 0.12647884]\n",
      "\n",
      "Median (Axis = 1) : [0.73476094 0.06055533 0.70571227 0.42967586 0.77267385]\n",
      "\n",
      "Percemtile : [0.06179834 0.64435944 0.96481385]\n",
      "\n",
      "Standard Deviation: 0.33850162024056557\n",
      "\n",
      "Standard Deviation (Axis = 0) : [0.40401666 0.26926009 0.15234205 0.3635416  0.29494266]\n",
      "\n",
      "Standard Deviation (Axis = 1) : [0.34535071 0.26239852 0.27692926 0.3180257  0.28973532]\n",
      "\n",
      "Variance : 0.11458334690548806\n",
      "\n",
      "Variance (Axis = 0) : [0.16322946 0.072501   0.0232081  0.1321625  0.08699117]\n",
      "\n",
      "Variance (Axis = 1) : [0.11926711 0.06885298 0.07668982 0.10114035 0.08394655]\n"
     ]
    }
   ],
   "source": [
    "# Compute the overall mean of the array\n",
    "print(f'Mean : {np.mean(arr)}')\n",
    "\n",
    "# Compute the mean along the row (axis=0)\n",
    "print(f'\\nMean (Axis = 0) : {np.mean(arr, axis=0)}')\n",
    "\n",
    "# Compute the mean along the column (axis=1)\n",
    "print(f'\\nMean (Axis = 1) : {np.mean(arr, axis=1)}')\n",
    "\n",
    "# Compute the overall median of the array\n",
    "print(f'\\nMedian : {np.median(arr)}')\n",
    "\n",
    "# Compute the median along the row (axis=0)\n",
    "print(f'\\nMedian(Axis = 0) : {np.median(arr, axis=0)}')\n",
    "\n",
    "# Compute the median along the column (axis=1)\n",
    "print(f'\\nMedian (Axis = 1) : {np.median(arr, axis=1)}')\n",
    "\n",
    "# Compute specific percentiles of the array\n",
    "arr1 = np.random.rand(100)\n",
    "print(f'\\nPercemtile : {np.percentile(arr1, [5, 65, 95])}')\n",
    "\n",
    "# Compute the overall standard deviation\n",
    "print(f'\\nStandard Deviation: {np.std(arr)}')\n",
    "\n",
    "# Compute the standard deviation along the row (axis=0)\n",
    "print(f'\\nStandard Deviation (Axis = 0) : {np.std(arr, axis=0)}')\n",
    "\n",
    "# Compute the standard deviation along the column (axis=1)\n",
    "print(f'\\nStandard Deviation (Axis = 1) : {np.std(arr, axis=1)}')\n",
    "\n",
    "# Compute the overall variance\n",
    "print(f'\\nVariance : {np.var(arr)}')\n",
    "\n",
    "# Compute the variance along the row (axis=0)\n",
    "print(f'\\nVariance (Axis = 0) : {np.var(arr, axis=0)}')\n",
    "\n",
    "# Compute the variance along the column (axis=1)\n",
    "print(f'\\nVariance (Axis = 1) : {np.var(arr, axis=1)}')\n"
   ]
  },
  {
   "cell_type": "markdown",
   "metadata": {},
   "source": [
    "## 4.8. **Covariance and Correlation**:\n",
    "- `np.cov()`: Computes the covariance matrix."
   ]
  },
  {
   "cell_type": "code",
   "execution_count": 107,
   "metadata": {},
   "outputs": [
    {
     "name": "stdout",
     "output_type": "stream",
     "text": [
      "[[ 0.0784095  -0.02060485 -0.00785969 -0.00375193 -0.01654334]\n",
      " [-0.02060485  0.06561169  0.03927892  0.02232182 -0.06182161]\n",
      " [-0.00785969  0.03927892  0.08586488 -0.02551071  0.01488765]\n",
      " [-0.00375193  0.02232182 -0.02551071  0.10962724 -0.10021557]\n",
      " [-0.01654334 -0.06182161  0.01488765 -0.10021557  0.1677781 ]]\n"
     ]
    }
   ],
   "source": [
    "# Generate a random 5x8 array\n",
    "arr = np.random.rand(5,8)\n",
    "\n",
    "# Compute the covariance matrix\n",
    "print(np.cov(arr))"
   ]
  },
  {
   "cell_type": "markdown",
   "metadata": {},
   "source": [
    "- `np.corrcoef()`: Computes the correlation coefficient between two arrays."
   ]
  },
  {
   "cell_type": "code",
   "execution_count": 108,
   "metadata": {},
   "outputs": [
    {
     "name": "stdout",
     "output_type": "stream",
     "text": [
      "[[ 1.         -0.22703912]\n",
      " [-0.22703912  1.        ]]\n"
     ]
    }
   ],
   "source": [
    "# Compute the correlation coefficient between the first and second columns\n",
    "print(np.corrcoef(arr[:,0], arr[:,1]))"
   ]
  },
  {
   "cell_type": "markdown",
   "metadata": {},
   "source": [
    "## 4.9. **Cumulative Functions**:\n",
    "- `np.cumsum()`: Computes the cumulative sum along the specified axis."
   ]
  },
  {
   "cell_type": "code",
   "execution_count": 109,
   "metadata": {},
   "outputs": [
    {
     "name": "stdout",
     "output_type": "stream",
     "text": [
      "[[0.16095505 0.61005122 0.82292041 0.71220307 0.1476     0.45120395\n",
      "  0.33382436 0.8452492 ]\n",
      " [1.02211715 1.56643148 1.4285728  1.04778097 0.53545459 0.95120467\n",
      "  1.26673255 1.26315606]\n",
      " [1.96186062 2.50073474 1.90532961 1.9597046  0.74838324 1.72128562\n",
      "  1.98872463 1.55610713]\n",
      " [1.98140816 3.44683596 2.28131195 2.27904652 1.55726174 2.07026236\n",
      "  2.91259106 2.09970936]\n",
      " [2.89567534 3.5048293  2.44918923 3.22692802 2.12461941 3.05611847\n",
      "  2.91970428 2.75684025]]\n"
     ]
    }
   ],
   "source": [
    "# Calculate the cumulative sums along the row (axis=0)\n",
    "print(np.cumsum(arr, axis=0))"
   ]
  },
  {
   "cell_type": "code",
   "execution_count": 110,
   "metadata": {},
   "outputs": [
    {
     "name": "stdout",
     "output_type": "stream",
     "text": [
      "[[0.16095505 0.77100628 1.59392669 2.30612975 2.45372976 2.90493371\n",
      "  3.23875806 4.08400726]\n",
      " [0.8611621  1.81754236 2.42319475 2.75877265 3.14662724 3.64662797\n",
      "  4.57953616 4.99744302]\n",
      " [0.93974347 1.87404673 2.35080354 3.26272717 3.47565582 4.24573677\n",
      "  4.96772885 5.26067992]\n",
      " [0.01954754 0.96564876 1.34163109 1.66097302 2.46985152 2.81882825\n",
      "  3.74269468 4.28629691]\n",
      " [0.91426717 0.97226051 1.14013779 2.08801928 2.65537696 3.64123306\n",
      "  3.64834629 4.30547718]]\n"
     ]
    }
   ],
   "source": [
    "# Calculate the cumulative sums along the column (axis=1)\n",
    "print(np.cumsum(arr, axis=1))"
   ]
  },
  {
   "cell_type": "markdown",
   "metadata": {},
   "source": [
    "- `np.cumprod()`: Computes the cumulative product along the specified axis."
   ]
  },
  {
   "cell_type": "code",
   "execution_count": 111,
   "metadata": {},
   "outputs": [
    {
     "name": "stdout",
     "output_type": "stream",
     "text": [
      "[[0.16095505 0.61005122 0.82292041 0.71220307 0.1476     0.45120395\n",
      "  0.33382436 0.8452492 ]\n",
      " [0.13860839 0.58344095 0.49840371 0.23899961 0.05724734 0.2256023\n",
      "  0.31142748 0.35323544]\n",
      " [0.13025633 0.54511078 0.23761737 0.21794939 0.0121896  0.17373203\n",
      "  0.22484817 0.1034807 ]\n",
      " [0.00254619 0.51572997 0.08933993 0.06960038 0.0098599  0.06062844\n",
      "  0.20772968 0.05625234]\n",
      " [0.0023279  0.0299089  0.01499814 0.06597291 0.00559409 0.05977092\n",
      "  0.00147763 0.03696515]]\n"
     ]
    }
   ],
   "source": [
    "# Calculate the cumulative product along the row (axis=0)\n",
    "print(np.cumprod(arr, axis=0))"
   ]
  },
  {
   "cell_type": "code",
   "execution_count": 112,
   "metadata": {},
   "outputs": [
    {
     "name": "stdout",
     "output_type": "stream",
     "text": [
      "[[1.60955054e-01 9.81908275e-02 8.08032364e-02 5.75483126e-02\n",
      "  8.49413122e-03 3.83258553e-03 1.27941041e-03 1.08142062e-03]\n",
      " [8.61162097e-01 8.23598433e-01 4.98814357e-01 1.67391077e-01\n",
      "  6.49233975e-02 3.24617459e-02 3.02838285e-02 1.26558198e-02]\n",
      " [9.39743473e-01 8.78005388e-01 4.18595049e-01 3.81726714e-01\n",
      "  8.12805541e-02 6.25926064e-02 4.51913665e-02 1.32388592e-02]\n",
      " [1.95475367e-02 1.84939483e-02 6.95339787e-03 2.22051149e-03\n",
      "  1.79612399e-03 6.26805491e-04 5.79084547e-04 3.14791651e-04]\n",
      " [9.14267175e-01 5.30214046e-02 8.90108922e-03 8.43717773e-03\n",
      "  4.78689752e-03 4.71919215e-03 3.35686913e-05 2.20590239e-05]]\n"
     ]
    }
   ],
   "source": [
    "# Calculate the cumulative product along the column (axis=1)\n",
    "print(np.cumprod(arr, axis=1))"
   ]
  },
  {
   "cell_type": "markdown",
   "metadata": {},
   "source": [
    "## 4.10. **Element-wise Boolean Operations**:\n",
    "- `arr1 == arr2`: Compares corresponding elements of `arr1` and `arr2` and returns a boolean array."
   ]
  },
  {
   "cell_type": "code",
   "execution_count": 113,
   "metadata": {},
   "outputs": [
    {
     "name": "stdout",
     "output_type": "stream",
     "text": [
      "[False False  True False False]\n"
     ]
    }
   ],
   "source": [
    "# Compare two arrays element-wise\n",
    "arr1 = np.array([1, 2, 3, 4, 5])\n",
    "arr2 = np.array([5, 4, 3, 2, 1])\n",
    "\n",
    "# Return a boolean array of equality comparisons\n",
    "print(arr1 == arr2)"
   ]
  },
  {
   "cell_type": "markdown",
   "metadata": {},
   "source": [
    "- `arr1 < 3`: Compares each element of `arr1` with `3` and returns a boolean array."
   ]
  },
  {
   "cell_type": "code",
   "execution_count": 114,
   "metadata": {},
   "outputs": [
    {
     "name": "stdout",
     "output_type": "stream",
     "text": [
      "[ True  True False False False]\n"
     ]
    }
   ],
   "source": [
    "# Return a boolean array for the comparison of each element to 3\n",
    "print(arr1 < 3)"
   ]
  }
 ],
 "metadata": {
  "kernelspec": {
   "display_name": "Python 3.9.19",
   "language": "python",
   "name": "python3"
  },
  "language_info": {
   "codemirror_mode": {
    "name": "ipython",
    "version": 3
   },
   "file_extension": ".py",
   "mimetype": "text/x-python",
   "name": "python",
   "nbconvert_exporter": "python",
   "pygments_lexer": "ipython3",
   "version": "3.9.19"
  },
  "orig_nbformat": 4,
  "vscode": {
   "interpreter": {
    "hash": "19ac704693c8cae2f9c9e88ff9c6c1340ec210896adf45c2deb54188ffc1c0c1"
   }
  }
 },
 "nbformat": 4,
 "nbformat_minor": 2
}
